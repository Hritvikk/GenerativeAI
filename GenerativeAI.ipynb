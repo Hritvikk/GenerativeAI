{
 "cells": [
  {
   "cell_type": "code",
   "execution_count": 13,
   "id": "94a3ca8a-9bb6-4262-91ed-d2837c20a7de",
   "metadata": {},
   "outputs": [],
   "source": [
    "# importing required libraries and setting up the API key\n",
    "import openai\n",
    "import os\n",
    "\n",
    "# from dotenv import load_dotenv, find_dotenv\n",
    "# _ = load_dotenv(find_dotenv())\n",
    "apiKey = ''\n",
    "openai.api_key  = apiKey"
   ]
  },
  {
   "cell_type": "code",
   "execution_count": 14,
   "id": "a7d57c5d-53fd-4906-9bc5-cf0deb17dc8e",
   "metadata": {},
   "outputs": [],
   "source": [
    "def get_completion(prompt, model=\"gpt-3.5-turbo\"):\n",
    "    messages = [{\"role\": \"user\", \"content\": prompt}]\n",
    "    response = openai.ChatCompletion.create(\n",
    "        model=model,\n",
    "        messages=messages,\n",
    "        temperature=0, # this is the degree of randomness of the model's output\n",
    "    )\n",
    "    return response.choices[0].message[\"content\"]"
   ]
  },
  {
   "cell_type": "code",
   "execution_count": 15,
   "id": "c0866dd3-5bff-4398-8246-653e7c293e3c",
   "metadata": {},
   "outputs": [
    {
     "name": "stdout",
     "output_type": "stream",
     "text": [
      "To guide a model towards the desired output and reduce irrelevant or incorrect responses, it is important to provide clear and specific instructions, which can be achieved through longer prompts that offer more clarity and context.\n"
     ]
    }
   ],
   "source": [
    "# Task 1 : Summarize a text\n",
    "text = f\"\"\"\n",
    "You should express what you want a model to do by \\ \n",
    "providing instructions that are as clear and \\ \n",
    "specific as you can possibly make them. \\ \n",
    "This will guide the model towards the desired output, \\ \n",
    "and reduce the chances of receiving irrelevant \\ \n",
    "or incorrect responses. Don't confuse writing a \\ \n",
    "clear prompt with writing a short prompt. \\ \n",
    "In many cases, longer prompts provide more clarity \\ \n",
    "and context for the model, which can lead to \\ \n",
    "more detailed and relevant outputs.\n",
    "\"\"\"\n",
    "prompt = f\"\"\"\n",
    "Summarize the text delimited by triple backticks \\ \n",
    "into a single sentence.\n",
    "```{text}```\n",
    "\"\"\"\n",
    "response = get_completion(prompt)\n",
    "print(response)"
   ]
  },
  {
   "cell_type": "code",
   "execution_count": 17,
   "id": "c9f53451-fcb9-4ff4-b290-776647881952",
   "metadata": {},
   "outputs": [
    {
     "name": "stdout",
     "output_type": "stream",
     "text": [
      "Chandler: (smirking) Yeah, well, I guess I should start charging for my performances then. Maybe I can make a career out of it.\n",
      "\n",
      "Joey: (grinning) Hey, that's not a bad idea! You could be the next big stand-up comedian. Just imagine, Chandler Bing, the king of awkward humor.\n",
      "\n",
      "Chandler: (sarcastically) Oh yeah, I can already see the billboards now – \"Chandler Bing: Making Awkwardness Hilarious Since 1994.\"\n",
      "\n",
      "Joey: (laughs) Hey, it's better than being known as the guy who falls asleep during meetings. Remember that time you dozed off and snored in front of your boss?\n",
      "\n",
      "Chandler: (blushing) Ugh, don't remind me. That was mortifying. I swear, I have the worst luck when it comes to workplace embarrassments.\n",
      "\n",
      "Joey: (patting Chandler's back) Hey, don't worry about it, buddy. We all have our moments. Just remember, you're not defined by your awkwardness. You're still the funniest guy I know.\n",
      "\n",
      "Chandler: (smiling) Thanks, Joey. I appreciate that. It's good to have a friend who sees past the awkwardness and still believes in me.\n",
      "\n",
      "Joey: (grinning) Of course, Chandler. You're my best friend. Awkwardness and all. Now, let's go grab a pizza and forget about work for a while. Sound good?\n",
      "\n",
      "Chandler: (nodding) Absolutely. Pizza always makes everything better. Let's go, buddy.\n"
     ]
    }
   ],
   "source": [
    "\n",
    "# Task 2 : Make a conversational bot for \"Chandler\" character in friends\n",
    "prompt = f\"\"\"\n",
    "Your target is to continue this conversation between joey and chandler from friends tv show\n",
    "\n",
    "Chandler: (walking into the apartment, looking tired) Hey, buddy, you won't believe what happened at work today.\n",
    "\n",
    "Joey: (perks up) Oh no, did you have another one of those awkward meetings with your boss?\n",
    "\n",
    "Chandler: (sighs) Yeah, it was terrible. My boss asked me to give a presentation, and I ended up stumbling over my words like crazy.\n",
    "\n",
    "Joey: (smirking) Well, at least you're consistent, Chandler. You know what they say – practice makes perfect!\n",
    "\n",
    "Chandler: (rolls his eyes) Oh, great, so now I'm perfect at being awkward? That's reassuring.\n",
    "\n",
    "Joey: (laughs) Come on, you're not that bad. You just have a special talent for turning presentations into comedy shows.\n",
    "\n",
    "continue 5 more conversations in the same format\n",
    "\"\"\"\n",
    "\n",
    "response = get_completion(prompt)\n",
    "print(response)"
   ]
  },
  {
   "cell_type": "code",
   "execution_count": 18,
   "id": "75fbb080-20c2-4cc7-a373-a9bb154695c0",
   "metadata": {},
   "outputs": [],
   "source": [
    "# Task 3 : Return average of 3 reviews' sentiments\n",
    "reviewOne = f\"\"\"\n",
    " I really like these keyboard, I utilize the macro keys often, and the three side buttons, and the dials, and the media buttons, I use it all. I make music and edit videos, and code, so they come in handy for ME. That being said, if you don't think you would use all of those, get another keyboard lol. It is expensive! But it feels worth it to me, I get a ton of buttons, amazing chroma (the lighting features are great) and I like the way it feels. That being said, here are my cons.\n",
    "\n",
    "Some letters like P or O have trouble with the light going all the way through, so you get this dark line in between. If you are a perfectionist this will get you. It doesn't bother me, but you are paying a lot of money for this thing.\n",
    "\n",
    "The space bar...doesn't sound as good as the rest of the keys. Somethings off about it, it doesn't feel as good ether...not sure what happened there lol.\n",
    "\n",
    "That's it. For the pros,\n",
    "\n",
    "The magnetic rest is PERFECT. My old one would slide around, this does NOT and its so easy to out on and has chroma? So cool, and very comfy.\n",
    "\n",
    "Buttons everywhereeeeee, so many short cut buttons, easy to customize (some people don't like synapses, idk why I love it.\n",
    "\n",
    "Keys feel good, sound good, and look good.\n",
    "\"\"\"\n",
    "reviewTwo = f\"\"\"\n",
    "Razer mice might be absolute junk that breaks after minor use but this keyboard is an absolute unit. It might be one of few razer products that actually is worth the price!\n",
    "\"\"\"\n",
    "\n",
    "reviewThree = f\"\"\"\n",
    "It's probably well-known by now that you need the Synapse software to unlock a good chunk of features this keyboard has, but did you also know that the incredibly terribly written manual also neglects to mention details like needing to download additional software and offers misleading information? Yeah, neither did I, but after spending 3 hours with Razer technical support I found that to be the case. One hour was spent with an agent who kept putting me on a silent hold and wouldn't respond and two hours with another agent who put me on hold a lot as she came to grips with the fact that what I saw on my screen didn't match what was on hers plus needing time to research/request help from people on her end.\n",
    "\"\"\"\n"
   ]
  },
  {
   "cell_type": "code",
   "execution_count": 20,
   "id": "d4d229b4-9704-44d3-b295-43730f4db8d4",
   "metadata": {},
   "outputs": [],
   "source": [
    "reviews = [reviewOne,reviewTwo,reviewThree]"
   ]
  },
  {
   "cell_type": "code",
   "execution_count": 31,
   "id": "aee525dc-5cff-46c3-825d-66216b5a31b6",
   "metadata": {},
   "outputs": [
    {
     "name": "stdout",
     "output_type": "stream",
     "text": [
      "0.8\n",
      "0.9\n",
      "0.2\n"
     ]
    }
   ],
   "source": [
    "ratings=[]\n",
    "for review in reviews:\n",
    "    prompt = f\"\"\"\n",
    "    Return the sentiment of this review on a scale of 0 to 1, 0 being negative and 1 positive.Return only single float.\n",
    "    ```{review}```\n",
    "    \n",
    "    \"\"\"\n",
    "    \n",
    "    response = get_completion(prompt)\n",
    "    print(response)\n",
    "    ratings.append(response)"
   ]
  },
  {
   "cell_type": "code",
   "execution_count": 32,
   "id": "803e15bb-4a59-43d3-a425-a66220fa9378",
   "metadata": {},
   "outputs": [
    {
     "data": {
      "text/plain": [
       "['0.8', '0.9', '0.2']"
      ]
     },
     "execution_count": 32,
     "metadata": {},
     "output_type": "execute_result"
    }
   ],
   "source": [
    "ratings"
   ]
  },
  {
   "cell_type": "code",
   "execution_count": 34,
   "id": "4c75d67f-947c-4669-97a4-d8749fda89c8",
   "metadata": {},
   "outputs": [],
   "source": [
    "for i in range(len(ratings)):\n",
    "    ratings[i]=float(ratings[i])"
   ]
  },
  {
   "cell_type": "code",
   "execution_count": 35,
   "id": "a2a24472-e212-41f2-b864-cb2c963f1429",
   "metadata": {},
   "outputs": [
    {
     "data": {
      "text/plain": [
       "[0.8, 0.9, 0.2]"
      ]
     },
     "execution_count": 35,
     "metadata": {},
     "output_type": "execute_result"
    }
   ],
   "source": [
    "ratings"
   ]
  },
  {
   "cell_type": "code",
   "execution_count": 44,
   "id": "3fc52f20-7d3d-4579-8597-71c91a7a2fe9",
   "metadata": {},
   "outputs": [
    {
     "name": "stdout",
     "output_type": "stream",
     "text": [
      "The average rating is : 0.63 \n"
     ]
    }
   ],
   "source": [
    "print(\"The average rating is : {} \".format(round(sum(ratings)/len(ratings),2)))"
   ]
  },
  {
   "cell_type": "markdown",
   "id": "c58323ac-5801-4868-ac70-9a768941fe7f",
   "metadata": {},
   "source": [
    "# Chatbot"
   ]
  },
  {
   "cell_type": "code",
   "execution_count": 56,
   "id": "a67ba8c7-fadc-46e4-b0f6-45ecddbc2979",
   "metadata": {},
   "outputs": [],
   "source": [
    "# Task 4 Design a chatbot using a specific context\n",
    "def get_completion(prompt, model=\"gpt-3.5-turbo\"):\n",
    "    messages = [{\"role\": \"user\", \"content\": prompt}]\n",
    "    response = openai.ChatCompletion.create(\n",
    "        model=model,\n",
    "        messages=messages,\n",
    "        temperature=0, # this is the degree of randomness of the model's output\n",
    "    )\n",
    "    return response.choices[0].message[\"content\"]"
   ]
  },
  {
   "cell_type": "code",
   "execution_count": 71,
   "id": "ba4188d1-8f1b-49f3-91bc-0685d45dc6d8",
   "metadata": {},
   "outputs": [],
   "source": [
    "def get_summary(text):\n",
    "    prompt = f\"\"\"\n",
    "    Return the summary of given text in maximum 30 words\n",
    "    ```{text}```\n",
    "    \"\"\"\n",
    "    \n",
    "    response = get_completion(prompt)\n",
    "    return response"
   ]
  },
  {
   "cell_type": "code",
   "execution_count": 72,
   "id": "efab2d0c-0504-4163-b7b9-7b766413eabd",
   "metadata": {},
   "outputs": [],
   "source": [
    "text = f\"\"\"Here are some common sources of protein:\n",
    "\n",
    "1. Animal-based sources: \n",
    "   - Lean meats such as chicken, turkey, beef, and pork.\n",
    "   - Fish and seafood like salmon, tuna, shrimp, and cod.\n",
    "   - Eggs, including both the whites and yolks.\n",
    "   - Dairy products like milk, yogurt, cheese, and cottage cheese.\n",
    "\n",
    "2. Plant-based sources: \n",
    "   - Legumes such as lentils, chickpeas, black beans, and kidney beans.\n",
    "   - Soy products like tofu, tempeh, and edamame.\n",
    "   - Quinoa, a grain-like seed that is a complete protein.\n",
    "   - Nuts and seeds, including almonds, walnuts, chia seeds, and hemp seeds.\n",
    "   - Whole grains like brown rice, oats, and whole wheat bread.\n",
    "\n",
    "It's important to note that while animal-based sources of protein tend to be complete proteins, meaning they contain all the essential amino acids, plant-based sources may be incomplete. However, by combining different plant-based protein sources throughout the day, you can still obtain all the essential amino acids your body needs.\"\"\"\n",
    "x = get_summary(text)"
   ]
  },
  {
   "cell_type": "code",
   "execution_count": 73,
   "id": "1b7a6e84-0487-4f4d-9764-65630ef197f8",
   "metadata": {},
   "outputs": [
    {
     "data": {
      "text/plain": [
       "'Common sources of protein include lean meats, fish, eggs, dairy products, legumes, soy products, quinoa, nuts, seeds, and whole grains. Animal-based sources are complete proteins, while plant-based sources may be incomplete but can be combined to meet amino acid needs.'"
      ]
     },
     "execution_count": 73,
     "metadata": {},
     "output_type": "execute_result"
    }
   ],
   "source": [
    "x"
   ]
  },
  {
   "cell_type": "code",
   "execution_count": 65,
   "id": "79ef4bab-ac71-40f5-8a94-f11db0de1e5c",
   "metadata": {},
   "outputs": [],
   "source": [
    "def get_completion_from_messages(messages, model=\"gpt-3.5-turbo\", temperature=0):\n",
    "    response = openai.ChatCompletion.create(\n",
    "        model=model,\n",
    "        messages=messages,\n",
    "        temperature=temperature, # this is the degree of randomness of the model's output\n",
    "    )\n",
    "#     print(str(response.choices[0].message))\n",
    "    return response.choices[0].message[\"content\"]"
   ]
  },
  {
   "cell_type": "code",
   "execution_count": 74,
   "id": "b7abebc5-ad02-437b-9ad6-897b380994cb",
   "metadata": {},
   "outputs": [],
   "source": [
    "messages =  [  \n",
    "{'role':'system', 'content':'You are an assistant that give advise about nutrition.'},    \n",
    "{'role':'user', 'content':'tell me benefits of nutrition'},   \n",
    "{'role':'assistant', 'content':'Nutrition improves health, energy, immunity, metabolism, and overall well-being.'},   \n",
    "{'role':'user', 'content':'What is immunity'},\n",
    "{'role':'assistant','content':'Immunity is the ability of body to defend against infections and diseases, keeping us healthy and protected.'}]"
   ]
  },
  {
   "cell_type": "code",
   "execution_count": 75,
   "id": "e52f7513-d811-49ab-bf63-0c6afe1db63d",
   "metadata": {},
   "outputs": [
    {
     "name": "stdout",
     "output_type": "stream",
     "text": [
      "<-------------------- NUTRITION AI -------------------->\n"
     ]
    },
    {
     "name": "stdout",
     "output_type": "stream",
     "text": [
      ">>>Dive into CONTEXT>>> :  what is protein\n"
     ]
    },
    {
     "name": "stdout",
     "output_type": "stream",
     "text": [
      "Protein is a macronutrient that is essential for the growth, repair, and maintenance of tissues in the body. It is made up of amino acids, which are the building blocks of protein. Protein plays a crucial role in various bodily functions, including muscle development, hormone production, enzyme synthesis, and immune function. It is found in both animal and plant sources, such as meat, poultry, fish, eggs, dairy products, legumes, nuts, and seeds.\n",
      "<-------------------- NUTRITION AI -------------------->\n"
     ]
    },
    {
     "name": "stdout",
     "output_type": "stream",
     "text": [
      ">>>Dive into CONTEXT>>> :  tell me sources for it\n"
     ]
    },
    {
     "name": "stdout",
     "output_type": "stream",
     "text": [
      "Good sources of protein include:\n",
      "\n",
      "1. Animal sources: Lean meats (chicken, turkey, beef), fish (salmon, tuna), eggs, dairy products (milk, yogurt, cheese).\n",
      "\n",
      "2. Plant sources: Legumes (beans, lentils, chickpeas), tofu, tempeh, edamame, quinoa, chia seeds, hemp seeds, nuts (almonds, walnuts, peanuts), seeds (flaxseeds, pumpkin seeds), and certain grains (oats, amaranth).\n",
      "\n",
      "It's important to have a balanced diet that includes a variety of protein sources to ensure you're getting all the essential amino acids your body needs.\n",
      "<-------------------- NUTRITION AI -------------------->\n"
     ]
    },
    {
     "name": "stdout",
     "output_type": "stream",
     "text": [
      ">>>Dive into CONTEXT>>> :  exit\n"
     ]
    },
    {
     "name": "stdout",
     "output_type": "stream",
     "text": [
      "Thank you for using NutritionAI, Hope you got a better understanding of nutrition with AI :)\n",
      "<-------------------- NUTRITION AI -------------------->\n"
     ]
    }
   ],
   "source": [
    "temperature = 0\n",
    "while True:\n",
    "    print(\"<-------------------- NUTRITION AI -------------------->\")\n",
    "    question = input(\">>>Dive into CONTEXT>>> : \")\n",
    "    if question=='exit':\n",
    "        print('Thank you for using NutritionAI, Hope you got a better understanding of nutrition with AI :)')\n",
    "        print(\"<-------------------- NUTRITION AI -------------------->\")\n",
    "        break\n",
    "    messages.append({'role':'user','content':question})\n",
    "    response = get_completion_from_messages(messages,temperature=0)\n",
    "    shortenedResponse = get_summary(response)\n",
    "    messages.append({'role':'assistant','content':shortenedResponse})\n",
    "    print(response)\n",
    "    "
   ]
  },
  {
   "cell_type": "code",
   "execution_count": 76,
   "id": "ac5c26ad-8f5d-4425-b8d8-9d635e50b0e7",
   "metadata": {},
   "outputs": [
    {
     "data": {
      "text/plain": [
       "[{'role': 'system',\n",
       "  'content': 'You are an assistant that give advise about nutrition.'},\n",
       " {'role': 'user', 'content': 'tell me benefits of nutrition'},\n",
       " {'role': 'assistant',\n",
       "  'content': 'Nutrition improves health, energy, immunity, metabolism, and overall well-being.'},\n",
       " {'role': 'user', 'content': 'What is immunity'},\n",
       " {'role': 'assistant',\n",
       "  'content': 'Immunity is the ability of body to defend against infections and diseases, keeping us healthy and protected.'},\n",
       " {'role': 'user', 'content': 'what is protein'},\n",
       " {'role': 'assistant',\n",
       "  'content': 'Protein is a vital nutrient made up of amino acids that supports tissue growth, muscle development, hormone production, and immune function. It can be found in animal and plant sources.'},\n",
       " {'role': 'user', 'content': 'tell me sources for it'},\n",
       " {'role': 'assistant',\n",
       "  'content': 'Good sources of protein include lean meats, fish, eggs, dairy products, legumes, tofu, nuts, seeds, and certain grains. A balanced diet with a variety of protein sources is important for essential amino acids.'}]"
      ]
     },
     "execution_count": 76,
     "metadata": {},
     "output_type": "execute_result"
    }
   ],
   "source": [
    "messages"
   ]
  },
  {
   "cell_type": "code",
   "execution_count": null,
   "id": "956f3e35-223f-40d8-8cf1-62f15a9bc235",
   "metadata": {},
   "outputs": [],
   "source": []
  }
 ],
 "metadata": {
  "kernelspec": {
   "display_name": "Python 3 (ipykernel)",
   "language": "python",
   "name": "python3"
  },
  "language_info": {
   "codemirror_mode": {
    "name": "ipython",
    "version": 3
   },
   "file_extension": ".py",
   "mimetype": "text/x-python",
   "name": "python",
   "nbconvert_exporter": "python",
   "pygments_lexer": "ipython3",
   "version": "3.11.4"
  }
 },
 "nbformat": 4,
 "nbformat_minor": 5
}
